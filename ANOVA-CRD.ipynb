{
 "cells": [
  {
   "cell_type": "code",
   "execution_count": 23,
   "id": "1c18fa55",
   "metadata": {},
   "outputs": [],
   "source": [
    "import pandas as pd\n",
    "import statsmodels.api as sm\n",
    "from statsmodels.formula.api import ols"
   ]
  },
  {
   "cell_type": "code",
   "execution_count": 24,
   "id": "c8c32d5f",
   "metadata": {},
   "outputs": [],
   "source": [
    "#Fundamental of Applied statistics E.g. 6.2 Pg No. 6.12\n",
    "A = [55,49,42,21,52]\n",
    "B = [61,112,30,89,63]\n",
    "C = [42,97,81,95,92]\n",
    "D = [169,137,169,85,154]"
   ]
  },
  {
   "cell_type": "code",
   "execution_count": 25,
   "id": "02944f07",
   "metadata": {},
   "outputs": [],
   "source": [
    "dic = {'A':A,\"B\":B,\"C\":C,\"D\":D}\n",
    "df = pd.DataFrame(dic)"
   ]
  },
  {
   "cell_type": "code",
   "execution_count": 26,
   "id": "da7a960b",
   "metadata": {},
   "outputs": [
    {
     "data": {
      "text/plain": [
       "A    219\n",
       "B    355\n",
       "C    407\n",
       "D    714\n",
       "dtype: int64"
      ]
     },
     "execution_count": 26,
     "metadata": {},
     "output_type": "execute_result"
    }
   ],
   "source": [
    "df.sum()"
   ]
  },
  {
   "cell_type": "code",
   "execution_count": 31,
   "id": "9531bba7",
   "metadata": {},
   "outputs": [],
   "source": [
    "df = df.melt()"
   ]
  },
  {
   "cell_type": "code",
   "execution_count": 21,
   "id": "aa373413",
   "metadata": {},
   "outputs": [
    {
     "data": {
      "text/plain": [
       "Index(['variable', 'value'], dtype='object')"
      ]
     },
     "execution_count": 21,
     "metadata": {},
     "output_type": "execute_result"
    }
   ],
   "source": [
    "df.melt().columns"
   ]
  },
  {
   "cell_type": "code",
   "execution_count": 40,
   "id": "993b5ec9",
   "metadata": {},
   "outputs": [
    {
     "name": "stdout",
     "output_type": "stream",
     "text": [
      "            df    sum_sq      mean_sq         F    PR(>F)\n",
      "variable   3.0  26234.95  8744.983333  12.10504  0.000218\n",
      "Residual  16.0  11558.80   722.425000       NaN       NaN\n"
     ]
    }
   ],
   "source": [
    "lm = ols('value ~ variable',data=df).fit()\n",
    "table = sm.stats.anova_lm(lm)\n",
    "print(table)"
   ]
  },
  {
   "cell_type": "markdown",
   "id": "6d39e218",
   "metadata": {},
   "source": [
    " \"\"\"if Fcalculated value is less than Ftabulated then Accept Ho.\n",
    "   ## i.e. Fc<Ft accept Ho.\n",
    "  \n",
    "\"\"\""
   ]
  },
  {
   "cell_type": "markdown",
   "id": "6ce744fb",
   "metadata": {},
   "source": [
    " \"\"\"If Ftabuleted value is less than Fcalculated then Reject Ho.\n",
    "    ##i.e. Ft<Fc Reject Ho.\"\"\""
   ]
  },
  {
   "cell_type": "code",
   "execution_count": null,
   "id": "27226d8b",
   "metadata": {},
   "outputs": [],
   "source": []
  }
 ],
 "metadata": {
  "kernelspec": {
   "display_name": "Python 3 (ipykernel)",
   "language": "python",
   "name": "python3"
  },
  "language_info": {
   "codemirror_mode": {
    "name": "ipython",
    "version": 3
   },
   "file_extension": ".py",
   "mimetype": "text/x-python",
   "name": "python",
   "nbconvert_exporter": "python",
   "pygments_lexer": "ipython3",
   "version": "3.8.8"
  }
 },
 "nbformat": 4,
 "nbformat_minor": 5
}
